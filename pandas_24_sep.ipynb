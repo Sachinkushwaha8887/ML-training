{
 "cells": [
  {
   "cell_type": "code",
   "execution_count": 1,
   "id": "265950b8",
   "metadata": {},
   "outputs": [],
   "source": [
    "import pandas as pd\n",
    "import numpy as np"
   ]
  },
  {
   "cell_type": "code",
   "execution_count": 2,
   "id": "8c33f960",
   "metadata": {},
   "outputs": [],
   "source": [
    "list_1=[11,12,13]"
   ]
  },
  {
   "cell_type": "code",
   "execution_count": 3,
   "id": "b559445f",
   "metadata": {},
   "outputs": [
    {
     "data": {
      "text/plain": [
       "[11, 12, 13]"
      ]
     },
     "execution_count": 3,
     "metadata": {},
     "output_type": "execute_result"
    }
   ],
   "source": [
    "list_1"
   ]
  },
  {
   "cell_type": "code",
   "execution_count": 15,
   "id": "96975454",
   "metadata": {},
   "outputs": [],
   "source": [
    "a_series=pd.Series(list_1,index=[\"Sun\",\"mon\",\"Tue\"])"
   ]
  },
  {
   "cell_type": "code",
   "execution_count": 16,
   "id": "5ccb4191",
   "metadata": {},
   "outputs": [
    {
     "data": {
      "text/plain": [
       "Sun    11\n",
       "mon    12\n",
       "Tue    13\n",
       "dtype: int64"
      ]
     },
     "execution_count": 16,
     "metadata": {},
     "output_type": "execute_result"
    }
   ],
   "source": [
    "a_series"
   ]
  },
  {
   "cell_type": "code",
   "execution_count": 17,
   "id": "b365cb1f",
   "metadata": {},
   "outputs": [
    {
     "data": {
      "text/plain": [
       "1"
      ]
     },
     "execution_count": 17,
     "metadata": {},
     "output_type": "execute_result"
    }
   ],
   "source": [
    "a_series.ndim"
   ]
  },
  {
   "cell_type": "code",
   "execution_count": 18,
   "id": "0a10069b",
   "metadata": {},
   "outputs": [
    {
     "data": {
      "text/plain": [
       "pandas.core.series.Series"
      ]
     },
     "execution_count": 18,
     "metadata": {},
     "output_type": "execute_result"
    }
   ],
   "source": [
    "type(a_series)"
   ]
  },
  {
   "cell_type": "code",
   "execution_count": 19,
   "id": "1022e1e0",
   "metadata": {},
   "outputs": [
    {
     "data": {
      "text/plain": [
       "3"
      ]
     },
     "execution_count": 19,
     "metadata": {},
     "output_type": "execute_result"
    }
   ],
   "source": [
    "len(a_series)"
   ]
  },
  {
   "cell_type": "code",
   "execution_count": 20,
   "id": "95a12b20",
   "metadata": {},
   "outputs": [
    {
     "data": {
      "text/plain": [
       "(3,)"
      ]
     },
     "execution_count": 20,
     "metadata": {},
     "output_type": "execute_result"
    }
   ],
   "source": [
    "a_series.shape"
   ]
  },
  {
   "cell_type": "code",
   "execution_count": 21,
   "id": "9c5bd292",
   "metadata": {},
   "outputs": [
    {
     "data": {
      "text/plain": [
       "3"
      ]
     },
     "execution_count": 21,
     "metadata": {},
     "output_type": "execute_result"
    }
   ],
   "source": [
    "a_series.size"
   ]
  },
  {
   "cell_type": "code",
   "execution_count": 22,
   "id": "20bdd6ac",
   "metadata": {},
   "outputs": [
    {
     "data": {
      "text/plain": [
       "array([11, 12, 13], dtype=int64)"
      ]
     },
     "execution_count": 22,
     "metadata": {},
     "output_type": "execute_result"
    }
   ],
   "source": [
    "a_series.values"
   ]
  },
  {
   "cell_type": "code",
   "execution_count": 23,
   "id": "10f84188",
   "metadata": {},
   "outputs": [
    {
     "data": {
      "text/plain": [
       "Index(['Sun', 'mon', 'Tue'], dtype='object')"
      ]
     },
     "execution_count": 23,
     "metadata": {},
     "output_type": "execute_result"
    }
   ],
   "source": [
    "a_series.keys()"
   ]
  },
  {
   "cell_type": "markdown",
   "id": "6ea8583a",
   "metadata": {},
   "source": [
    "# Data frame is a (2d)"
   ]
  },
  {
   "cell_type": "code",
   "execution_count": 24,
   "id": "9e34337f",
   "metadata": {},
   "outputs": [],
   "source": [
    "my_dic={\"Name\":[\"Sachin\",\"Praveen\"],\"Age\":[30,35],\"Edu\":[\"Engg\",\"Med\"]}"
   ]
  },
  {
   "cell_type": "code",
   "execution_count": 25,
   "id": "3860b180",
   "metadata": {},
   "outputs": [
    {
     "data": {
      "text/plain": [
       "{'Name': ['Sachin', 'Praveen'], 'Age': [30, 35], 'Edu': ['Engg', 'Med']}"
      ]
     },
     "execution_count": 25,
     "metadata": {},
     "output_type": "execute_result"
    }
   ],
   "source": [
    "my_dic"
   ]
  },
  {
   "cell_type": "code",
   "execution_count": 26,
   "id": "e7122fd9",
   "metadata": {},
   "outputs": [],
   "source": [
    "df=pd.DataFrame(my_dic)"
   ]
  },
  {
   "cell_type": "code",
   "execution_count": 27,
   "id": "636546f4",
   "metadata": {},
   "outputs": [
    {
     "data": {
      "text/html": [
       "<div>\n",
       "<style scoped>\n",
       "    .dataframe tbody tr th:only-of-type {\n",
       "        vertical-align: middle;\n",
       "    }\n",
       "\n",
       "    .dataframe tbody tr th {\n",
       "        vertical-align: top;\n",
       "    }\n",
       "\n",
       "    .dataframe thead th {\n",
       "        text-align: right;\n",
       "    }\n",
       "</style>\n",
       "<table border=\"1\" class=\"dataframe\">\n",
       "  <thead>\n",
       "    <tr style=\"text-align: right;\">\n",
       "      <th></th>\n",
       "      <th>Name</th>\n",
       "      <th>Age</th>\n",
       "      <th>Edu</th>\n",
       "    </tr>\n",
       "  </thead>\n",
       "  <tbody>\n",
       "    <tr>\n",
       "      <th>0</th>\n",
       "      <td>Sachin</td>\n",
       "      <td>30</td>\n",
       "      <td>Engg</td>\n",
       "    </tr>\n",
       "    <tr>\n",
       "      <th>1</th>\n",
       "      <td>Praveen</td>\n",
       "      <td>35</td>\n",
       "      <td>Med</td>\n",
       "    </tr>\n",
       "  </tbody>\n",
       "</table>\n",
       "</div>"
      ],
      "text/plain": [
       "      Name  Age   Edu\n",
       "0   Sachin   30  Engg\n",
       "1  Praveen   35   Med"
      ]
     },
     "execution_count": 27,
     "metadata": {},
     "output_type": "execute_result"
    }
   ],
   "source": [
    "df"
   ]
  },
  {
   "cell_type": "code",
   "execution_count": 28,
   "id": "b7acb7d4",
   "metadata": {},
   "outputs": [
    {
     "data": {
      "text/plain": [
       "(2, 3)"
      ]
     },
     "execution_count": 28,
     "metadata": {},
     "output_type": "execute_result"
    }
   ],
   "source": [
    "df.shape"
   ]
  },
  {
   "cell_type": "code",
   "execution_count": 29,
   "id": "d22a8315",
   "metadata": {},
   "outputs": [
    {
     "data": {
      "text/plain": [
       "2"
      ]
     },
     "execution_count": 29,
     "metadata": {},
     "output_type": "execute_result"
    }
   ],
   "source": [
    "df.ndim"
   ]
  },
  {
   "cell_type": "code",
   "execution_count": 30,
   "id": "5bdffbfe",
   "metadata": {},
   "outputs": [
    {
     "data": {
      "text/plain": [
       "pandas.core.frame.DataFrame"
      ]
     },
     "execution_count": 30,
     "metadata": {},
     "output_type": "execute_result"
    }
   ],
   "source": [
    "type(df)"
   ]
  },
  {
   "cell_type": "code",
   "execution_count": 31,
   "id": "70e7d964",
   "metadata": {},
   "outputs": [
    {
     "data": {
      "text/plain": [
       "6"
      ]
     },
     "execution_count": 31,
     "metadata": {},
     "output_type": "execute_result"
    }
   ],
   "source": [
    "df.size"
   ]
  },
  {
   "cell_type": "code",
   "execution_count": 32,
   "id": "72c3ffe7",
   "metadata": {},
   "outputs": [
    {
     "data": {
      "text/plain": [
       "Index(['Name', 'Age', 'Edu'], dtype='object')"
      ]
     },
     "execution_count": 32,
     "metadata": {},
     "output_type": "execute_result"
    }
   ],
   "source": [
    "df.keys()"
   ]
  },
  {
   "cell_type": "code",
   "execution_count": 33,
   "id": "1a870f22",
   "metadata": {},
   "outputs": [
    {
     "data": {
      "text/plain": [
       "array([['Sachin', 30, 'Engg'],\n",
       "       ['Praveen', 35, 'Med']], dtype=object)"
      ]
     },
     "execution_count": 33,
     "metadata": {},
     "output_type": "execute_result"
    }
   ],
   "source": [
    "df.values"
   ]
  },
  {
   "cell_type": "code",
   "execution_count": 34,
   "id": "7195632a",
   "metadata": {},
   "outputs": [
    {
     "data": {
      "text/plain": [
       "2"
      ]
     },
     "execution_count": 34,
     "metadata": {},
     "output_type": "execute_result"
    }
   ],
   "source": [
    "len(df)"
   ]
  },
  {
   "cell_type": "code",
   "execution_count": 36,
   "id": "ca7e229d",
   "metadata": {},
   "outputs": [
    {
     "data": {
      "text/plain": [
       "0     Sachin\n",
       "1    Praveen\n",
       "Name: Name, dtype: object"
      ]
     },
     "execution_count": 36,
     "metadata": {},
     "output_type": "execute_result"
    }
   ],
   "source": [
    "#df.[\"Name\"]\n",
    "df.Name\n"
   ]
  },
  {
   "cell_type": "code",
   "execution_count": 38,
   "id": "bcb7fe1e",
   "metadata": {},
   "outputs": [
    {
     "data": {
      "text/plain": [
       "Index(['Name', 'Age', 'Edu'], dtype='object')"
      ]
     },
     "execution_count": 38,
     "metadata": {},
     "output_type": "execute_result"
    }
   ],
   "source": [
    "df.columns"
   ]
  },
  {
   "cell_type": "code",
   "execution_count": 39,
   "id": "ca072863",
   "metadata": {},
   "outputs": [
    {
     "data": {
      "text/plain": [
       "Index(['Name', 'Age', 'Edu'], dtype='object')"
      ]
     },
     "execution_count": 39,
     "metadata": {},
     "output_type": "execute_result"
    }
   ],
   "source": [
    "df.keys()"
   ]
  },
  {
   "cell_type": "code",
   "execution_count": 40,
   "id": "a035bb2c",
   "metadata": {},
   "outputs": [],
   "source": [
    "df_value=df.values"
   ]
  },
  {
   "cell_type": "code",
   "execution_count": 41,
   "id": "d0f471e1",
   "metadata": {},
   "outputs": [
    {
     "data": {
      "text/plain": [
       "array([['Sachin', 30, 'Engg'],\n",
       "       ['Praveen', 35, 'Med']], dtype=object)"
      ]
     },
     "execution_count": 41,
     "metadata": {},
     "output_type": "execute_result"
    }
   ],
   "source": [
    "df_value"
   ]
  },
  {
   "cell_type": "code",
   "execution_count": 42,
   "id": "28cb4492",
   "metadata": {},
   "outputs": [
    {
     "data": {
      "text/plain": [
       "numpy.ndarray"
      ]
     },
     "execution_count": 42,
     "metadata": {},
     "output_type": "execute_result"
    }
   ],
   "source": [
    "type(df_value)"
   ]
  },
  {
   "cell_type": "code",
   "execution_count": 45,
   "id": "2b17fbd7",
   "metadata": {},
   "outputs": [],
   "source": [
    "pop_data=pd.read_excel(r\"C:\\Users\\sk414\\OneDrive\\Desktop\\ML project\\DataSets-master\\DataSets-master\\Population_Summary.xlsx\") "
   ]
  },
  {
   "cell_type": "code",
   "execution_count": 46,
   "id": "d7d73679",
   "metadata": {},
   "outputs": [
    {
     "data": {
      "text/html": [
       "<div>\n",
       "<style scoped>\n",
       "    .dataframe tbody tr th:only-of-type {\n",
       "        vertical-align: middle;\n",
       "    }\n",
       "\n",
       "    .dataframe tbody tr th {\n",
       "        vertical-align: top;\n",
       "    }\n",
       "\n",
       "    .dataframe thead th {\n",
       "        text-align: right;\n",
       "    }\n",
       "</style>\n",
       "<table border=\"1\" class=\"dataframe\">\n",
       "  <thead>\n",
       "    <tr style=\"text-align: right;\">\n",
       "      <th></th>\n",
       "      <th>Rank</th>\n",
       "      <th>State_UT</th>\n",
       "      <th>Population</th>\n",
       "      <th>Rulal</th>\n",
       "      <th>Urban</th>\n",
       "      <th>Share</th>\n",
       "      <th>Growth</th>\n",
       "      <th>Country</th>\n",
       "      <th>World_Rank</th>\n",
       "    </tr>\n",
       "  </thead>\n",
       "  <tbody>\n",
       "    <tr>\n",
       "      <th>0</th>\n",
       "      <td>1</td>\n",
       "      <td>Uttar Pradesh</td>\n",
       "      <td>199812341</td>\n",
       "      <td>77.73</td>\n",
       "      <td>22.27</td>\n",
       "      <td>16.50</td>\n",
       "      <td>20.23</td>\n",
       "      <td>Brazil</td>\n",
       "      <td>5</td>\n",
       "    </tr>\n",
       "    <tr>\n",
       "      <th>1</th>\n",
       "      <td>2</td>\n",
       "      <td>Maharashtra</td>\n",
       "      <td>112374333</td>\n",
       "      <td>54.78</td>\n",
       "      <td>45.22</td>\n",
       "      <td>9.28</td>\n",
       "      <td>15.99</td>\n",
       "      <td>Mexico</td>\n",
       "      <td>11</td>\n",
       "    </tr>\n",
       "    <tr>\n",
       "      <th>2</th>\n",
       "      <td>3</td>\n",
       "      <td>Bihar</td>\n",
       "      <td>104099452</td>\n",
       "      <td>88.71</td>\n",
       "      <td>11.29</td>\n",
       "      <td>8.60</td>\n",
       "      <td>25.42</td>\n",
       "      <td>Philippines</td>\n",
       "      <td>12</td>\n",
       "    </tr>\n",
       "    <tr>\n",
       "      <th>3</th>\n",
       "      <td>4</td>\n",
       "      <td>West Bengal</td>\n",
       "      <td>91276115</td>\n",
       "      <td>68.13</td>\n",
       "      <td>31.87</td>\n",
       "      <td>7.54</td>\n",
       "      <td>13.84</td>\n",
       "      <td>Viet Nam</td>\n",
       "      <td>14</td>\n",
       "    </tr>\n",
       "    <tr>\n",
       "      <th>4</th>\n",
       "      <td>5</td>\n",
       "      <td>Andhra Pradesh</td>\n",
       "      <td>84580777</td>\n",
       "      <td>66.64</td>\n",
       "      <td>33.36</td>\n",
       "      <td>6.99</td>\n",
       "      <td>10.98</td>\n",
       "      <td>Egypt</td>\n",
       "      <td>15</td>\n",
       "    </tr>\n",
       "    <tr>\n",
       "      <th>5</th>\n",
       "      <td>6</td>\n",
       "      <td>Madhya Pradesh</td>\n",
       "      <td>72626809</td>\n",
       "      <td>72.37</td>\n",
       "      <td>27.63</td>\n",
       "      <td>6.00</td>\n",
       "      <td>20.35</td>\n",
       "      <td>Turkey</td>\n",
       "      <td>18</td>\n",
       "    </tr>\n",
       "    <tr>\n",
       "      <th>6</th>\n",
       "      <td>7</td>\n",
       "      <td>Tamil Nadu</td>\n",
       "      <td>72147030</td>\n",
       "      <td>51.60</td>\n",
       "      <td>48.40</td>\n",
       "      <td>5.96</td>\n",
       "      <td>15.61</td>\n",
       "      <td>Turkey</td>\n",
       "      <td>18</td>\n",
       "    </tr>\n",
       "    <tr>\n",
       "      <th>7</th>\n",
       "      <td>8</td>\n",
       "      <td>Rajasthan</td>\n",
       "      <td>68548437</td>\n",
       "      <td>75.13</td>\n",
       "      <td>24.87</td>\n",
       "      <td>5.66</td>\n",
       "      <td>21.31</td>\n",
       "      <td>Congo</td>\n",
       "      <td>19</td>\n",
       "    </tr>\n",
       "    <tr>\n",
       "      <th>8</th>\n",
       "      <td>9</td>\n",
       "      <td>Karnataka</td>\n",
       "      <td>61095297</td>\n",
       "      <td>61.33</td>\n",
       "      <td>38.67</td>\n",
       "      <td>5.05</td>\n",
       "      <td>15.60</td>\n",
       "      <td>Italy</td>\n",
       "      <td>23</td>\n",
       "    </tr>\n",
       "    <tr>\n",
       "      <th>9</th>\n",
       "      <td>10</td>\n",
       "      <td>Gujarat</td>\n",
       "      <td>60439692</td>\n",
       "      <td>57.40</td>\n",
       "      <td>42.60</td>\n",
       "      <td>4.99</td>\n",
       "      <td>19.28</td>\n",
       "      <td>Italy</td>\n",
       "      <td>23</td>\n",
       "    </tr>\n",
       "    <tr>\n",
       "      <th>10</th>\n",
       "      <td>11</td>\n",
       "      <td>Odisha</td>\n",
       "      <td>41974218</td>\n",
       "      <td>83.31</td>\n",
       "      <td>16.69</td>\n",
       "      <td>3.47</td>\n",
       "      <td>14.05</td>\n",
       "      <td>Argentina</td>\n",
       "      <td>32</td>\n",
       "    </tr>\n",
       "    <tr>\n",
       "      <th>11</th>\n",
       "      <td>12</td>\n",
       "      <td>Kerala</td>\n",
       "      <td>33406061</td>\n",
       "      <td>52.30</td>\n",
       "      <td>47.70</td>\n",
       "      <td>2.76</td>\n",
       "      <td>4.91</td>\n",
       "      <td>Morocco</td>\n",
       "      <td>39</td>\n",
       "    </tr>\n",
       "    <tr>\n",
       "      <th>12</th>\n",
       "      <td>13</td>\n",
       "      <td>Jharkhand</td>\n",
       "      <td>32988134</td>\n",
       "      <td>75.95</td>\n",
       "      <td>24.05</td>\n",
       "      <td>2.72</td>\n",
       "      <td>22.42</td>\n",
       "      <td>Morocco</td>\n",
       "      <td>39</td>\n",
       "    </tr>\n",
       "    <tr>\n",
       "      <th>13</th>\n",
       "      <td>14</td>\n",
       "      <td>Assam</td>\n",
       "      <td>31205576</td>\n",
       "      <td>85.90</td>\n",
       "      <td>14.10</td>\n",
       "      <td>2.58</td>\n",
       "      <td>17.07</td>\n",
       "      <td>Afghanistan</td>\n",
       "      <td>40</td>\n",
       "    </tr>\n",
       "    <tr>\n",
       "      <th>14</th>\n",
       "      <td>15</td>\n",
       "      <td>Punjab</td>\n",
       "      <td>27743338</td>\n",
       "      <td>62.52</td>\n",
       "      <td>37.48</td>\n",
       "      <td>2.29</td>\n",
       "      <td>13.89</td>\n",
       "      <td>Nepal</td>\n",
       "      <td>46</td>\n",
       "    </tr>\n",
       "    <tr>\n",
       "      <th>15</th>\n",
       "      <td>16</td>\n",
       "      <td>Chhattisgarh</td>\n",
       "      <td>25545198</td>\n",
       "      <td>76.76</td>\n",
       "      <td>23.24</td>\n",
       "      <td>2.11</td>\n",
       "      <td>22.61</td>\n",
       "      <td>Korea</td>\n",
       "      <td>49</td>\n",
       "    </tr>\n",
       "    <tr>\n",
       "      <th>16</th>\n",
       "      <td>17</td>\n",
       "      <td>Haryana</td>\n",
       "      <td>25351462</td>\n",
       "      <td>65.12</td>\n",
       "      <td>34.88</td>\n",
       "      <td>2.09</td>\n",
       "      <td>19.90</td>\n",
       "      <td>Korea</td>\n",
       "      <td>49</td>\n",
       "    </tr>\n",
       "    <tr>\n",
       "      <th>17</th>\n",
       "      <td>NCT</td>\n",
       "      <td>Delhi</td>\n",
       "      <td>16787941</td>\n",
       "      <td>2.50</td>\n",
       "      <td>97.50</td>\n",
       "      <td>1.39</td>\n",
       "      <td>21.21</td>\n",
       "      <td>Netherlands</td>\n",
       "      <td>64</td>\n",
       "    </tr>\n",
       "    <tr>\n",
       "      <th>18</th>\n",
       "      <td>18</td>\n",
       "      <td>Jammu &amp; Kashmir</td>\n",
       "      <td>12541302</td>\n",
       "      <td>72.62</td>\n",
       "      <td>27.38</td>\n",
       "      <td>1.04</td>\n",
       "      <td>23.64</td>\n",
       "      <td>Chad</td>\n",
       "      <td>73</td>\n",
       "    </tr>\n",
       "    <tr>\n",
       "      <th>19</th>\n",
       "      <td>19</td>\n",
       "      <td>Uttarakhand</td>\n",
       "      <td>10086292</td>\n",
       "      <td>69.77</td>\n",
       "      <td>30.23</td>\n",
       "      <td>0.83</td>\n",
       "      <td>18.81</td>\n",
       "      <td>Hungary</td>\n",
       "      <td>89</td>\n",
       "    </tr>\n",
       "    <tr>\n",
       "      <th>20</th>\n",
       "      <td>20</td>\n",
       "      <td>Himachal Pradesh</td>\n",
       "      <td>6864602</td>\n",
       "      <td>89.97</td>\n",
       "      <td>10.03</td>\n",
       "      <td>0.57</td>\n",
       "      <td>12.94</td>\n",
       "      <td>Paraguay</td>\n",
       "      <td>105</td>\n",
       "    </tr>\n",
       "    <tr>\n",
       "      <th>21</th>\n",
       "      <td>21</td>\n",
       "      <td>Tripura</td>\n",
       "      <td>3673917</td>\n",
       "      <td>73.83</td>\n",
       "      <td>26.17</td>\n",
       "      <td>0.30</td>\n",
       "      <td>14.84</td>\n",
       "      <td>Oman</td>\n",
       "      <td>130</td>\n",
       "    </tr>\n",
       "    <tr>\n",
       "      <th>22</th>\n",
       "      <td>22</td>\n",
       "      <td>Meghalaya</td>\n",
       "      <td>2966889</td>\n",
       "      <td>79.93</td>\n",
       "      <td>20.07</td>\n",
       "      <td>0.25</td>\n",
       "      <td>27.95</td>\n",
       "      <td>Armenia</td>\n",
       "      <td>139</td>\n",
       "    </tr>\n",
       "    <tr>\n",
       "      <th>23</th>\n",
       "      <td>23</td>\n",
       "      <td>Manipur</td>\n",
       "      <td>2855794</td>\n",
       "      <td>70.79</td>\n",
       "      <td>29.21</td>\n",
       "      <td>0.24</td>\n",
       "      <td>24.50</td>\n",
       "      <td>Jamaica</td>\n",
       "      <td>141</td>\n",
       "    </tr>\n",
       "    <tr>\n",
       "      <th>24</th>\n",
       "      <td>24</td>\n",
       "      <td>Nagaland</td>\n",
       "      <td>1978502</td>\n",
       "      <td>71.14</td>\n",
       "      <td>28.86</td>\n",
       "      <td>0.16</td>\n",
       "      <td>-0.58</td>\n",
       "      <td>Botswana</td>\n",
       "      <td>148</td>\n",
       "    </tr>\n",
       "    <tr>\n",
       "      <th>25</th>\n",
       "      <td>25</td>\n",
       "      <td>Goa</td>\n",
       "      <td>1458545</td>\n",
       "      <td>37.83</td>\n",
       "      <td>62.17</td>\n",
       "      <td>0.12</td>\n",
       "      <td>8.23</td>\n",
       "      <td>Gabon</td>\n",
       "      <td>151</td>\n",
       "    </tr>\n",
       "    <tr>\n",
       "      <th>26</th>\n",
       "      <td>26</td>\n",
       "      <td>Arunachal Pradesh</td>\n",
       "      <td>1383727</td>\n",
       "      <td>77.06</td>\n",
       "      <td>22.94</td>\n",
       "      <td>0.11</td>\n",
       "      <td>26.03</td>\n",
       "      <td>Trinidad and Tobago</td>\n",
       "      <td>152</td>\n",
       "    </tr>\n",
       "    <tr>\n",
       "      <th>27</th>\n",
       "      <td>UT1</td>\n",
       "      <td>Puducherry</td>\n",
       "      <td>1247953</td>\n",
       "      <td>31.67</td>\n",
       "      <td>68.33</td>\n",
       "      <td>0.10</td>\n",
       "      <td>28.08</td>\n",
       "      <td>Mauritius</td>\n",
       "      <td>156</td>\n",
       "    </tr>\n",
       "    <tr>\n",
       "      <th>28</th>\n",
       "      <td>27</td>\n",
       "      <td>Mizoram</td>\n",
       "      <td>1097206</td>\n",
       "      <td>47.89</td>\n",
       "      <td>52.11</td>\n",
       "      <td>0.09</td>\n",
       "      <td>23.48</td>\n",
       "      <td>Timor-Leste</td>\n",
       "      <td>158</td>\n",
       "    </tr>\n",
       "    <tr>\n",
       "      <th>29</th>\n",
       "      <td>UT2</td>\n",
       "      <td>Chandigarh</td>\n",
       "      <td>1055450</td>\n",
       "      <td>2.75</td>\n",
       "      <td>97.25</td>\n",
       "      <td>0.09</td>\n",
       "      <td>17.19</td>\n",
       "      <td>Timor-Leste</td>\n",
       "      <td>158</td>\n",
       "    </tr>\n",
       "    <tr>\n",
       "      <th>30</th>\n",
       "      <td>28</td>\n",
       "      <td>Sikkim</td>\n",
       "      <td>610577</td>\n",
       "      <td>74.85</td>\n",
       "      <td>25.15</td>\n",
       "      <td>0.05</td>\n",
       "      <td>12.89</td>\n",
       "      <td>Montenegro</td>\n",
       "      <td>166</td>\n",
       "    </tr>\n",
       "    <tr>\n",
       "      <th>31</th>\n",
       "      <td>UT3</td>\n",
       "      <td>A.&amp; N.Islands</td>\n",
       "      <td>380581</td>\n",
       "      <td>62.30</td>\n",
       "      <td>37.70</td>\n",
       "      <td>0.03</td>\n",
       "      <td>6.86</td>\n",
       "      <td>Bahamas</td>\n",
       "      <td>177</td>\n",
       "    </tr>\n",
       "    <tr>\n",
       "      <th>32</th>\n",
       "      <td>UT4</td>\n",
       "      <td>D.&amp; N.Haveli</td>\n",
       "      <td>343709</td>\n",
       "      <td>53.28</td>\n",
       "      <td>46.72</td>\n",
       "      <td>0.03</td>\n",
       "      <td>55.88</td>\n",
       "      <td>Belize</td>\n",
       "      <td>179</td>\n",
       "    </tr>\n",
       "    <tr>\n",
       "      <th>33</th>\n",
       "      <td>UT5</td>\n",
       "      <td>Daman &amp; Diu</td>\n",
       "      <td>243247</td>\n",
       "      <td>24.83</td>\n",
       "      <td>75.17</td>\n",
       "      <td>0.02</td>\n",
       "      <td>53.76</td>\n",
       "      <td>Vanuatu</td>\n",
       "      <td>184</td>\n",
       "    </tr>\n",
       "    <tr>\n",
       "      <th>34</th>\n",
       "      <td>UT6</td>\n",
       "      <td>Lakshadweep</td>\n",
       "      <td>64473</td>\n",
       "      <td>21.93</td>\n",
       "      <td>78.07</td>\n",
       "      <td>0.01</td>\n",
       "      <td>6.30</td>\n",
       "      <td>Bermuda</td>\n",
       "      <td>205</td>\n",
       "    </tr>\n",
       "  </tbody>\n",
       "</table>\n",
       "</div>"
      ],
      "text/plain": [
       "   Rank           State_UT  Population  Rulal  Urban  Share  Growth  \\\n",
       "0     1      Uttar Pradesh   199812341  77.73  22.27  16.50   20.23   \n",
       "1     2        Maharashtra   112374333  54.78  45.22   9.28   15.99   \n",
       "2     3              Bihar   104099452  88.71  11.29   8.60   25.42   \n",
       "3     4        West Bengal    91276115  68.13  31.87   7.54   13.84   \n",
       "4     5     Andhra Pradesh    84580777  66.64  33.36   6.99   10.98   \n",
       "5     6     Madhya Pradesh    72626809  72.37  27.63   6.00   20.35   \n",
       "6     7         Tamil Nadu    72147030  51.60  48.40   5.96   15.61   \n",
       "7     8          Rajasthan    68548437  75.13  24.87   5.66   21.31   \n",
       "8     9          Karnataka    61095297  61.33  38.67   5.05   15.60   \n",
       "9    10            Gujarat    60439692  57.40  42.60   4.99   19.28   \n",
       "10   11             Odisha    41974218  83.31  16.69   3.47   14.05   \n",
       "11   12             Kerala    33406061  52.30  47.70   2.76    4.91   \n",
       "12   13          Jharkhand    32988134  75.95  24.05   2.72   22.42   \n",
       "13   14              Assam    31205576  85.90  14.10   2.58   17.07   \n",
       "14   15             Punjab    27743338  62.52  37.48   2.29   13.89   \n",
       "15   16       Chhattisgarh    25545198  76.76  23.24   2.11   22.61   \n",
       "16   17            Haryana    25351462  65.12  34.88   2.09   19.90   \n",
       "17  NCT              Delhi    16787941   2.50  97.50   1.39   21.21   \n",
       "18   18    Jammu & Kashmir    12541302  72.62  27.38   1.04   23.64   \n",
       "19   19        Uttarakhand    10086292  69.77  30.23   0.83   18.81   \n",
       "20   20   Himachal Pradesh     6864602  89.97  10.03   0.57   12.94   \n",
       "21   21            Tripura     3673917  73.83  26.17   0.30   14.84   \n",
       "22   22          Meghalaya     2966889  79.93  20.07   0.25   27.95   \n",
       "23   23            Manipur     2855794  70.79  29.21   0.24   24.50   \n",
       "24   24           Nagaland     1978502  71.14  28.86   0.16   -0.58   \n",
       "25   25                Goa     1458545  37.83  62.17   0.12    8.23   \n",
       "26   26  Arunachal Pradesh     1383727  77.06  22.94   0.11   26.03   \n",
       "27  UT1         Puducherry     1247953  31.67  68.33   0.10   28.08   \n",
       "28   27            Mizoram     1097206  47.89  52.11   0.09   23.48   \n",
       "29  UT2         Chandigarh     1055450   2.75  97.25   0.09   17.19   \n",
       "30   28             Sikkim      610577  74.85  25.15   0.05   12.89   \n",
       "31  UT3      A.& N.Islands      380581  62.30  37.70   0.03    6.86   \n",
       "32  UT4       D.& N.Haveli      343709  53.28  46.72   0.03   55.88   \n",
       "33  UT5        Daman & Diu      243247  24.83  75.17   0.02   53.76   \n",
       "34  UT6        Lakshadweep       64473  21.93  78.07   0.01    6.30   \n",
       "\n",
       "                Country  World_Rank  \n",
       "0                Brazil           5  \n",
       "1                Mexico          11  \n",
       "2           Philippines          12  \n",
       "3              Viet Nam          14  \n",
       "4                 Egypt          15  \n",
       "5                Turkey          18  \n",
       "6                Turkey          18  \n",
       "7                 Congo          19  \n",
       "8                 Italy          23  \n",
       "9                 Italy          23  \n",
       "10            Argentina          32  \n",
       "11              Morocco          39  \n",
       "12              Morocco          39  \n",
       "13          Afghanistan          40  \n",
       "14                Nepal          46  \n",
       "15                Korea          49  \n",
       "16                Korea          49  \n",
       "17          Netherlands          64  \n",
       "18                 Chad          73  \n",
       "19              Hungary          89  \n",
       "20             Paraguay         105  \n",
       "21                 Oman         130  \n",
       "22              Armenia         139  \n",
       "23              Jamaica         141  \n",
       "24             Botswana         148  \n",
       "25                Gabon         151  \n",
       "26  Trinidad and Tobago         152  \n",
       "27            Mauritius         156  \n",
       "28          Timor-Leste         158  \n",
       "29          Timor-Leste         158  \n",
       "30           Montenegro         166  \n",
       "31              Bahamas         177  \n",
       "32               Belize         179  \n",
       "33              Vanuatu         184  \n",
       "34              Bermuda         205  "
      ]
     },
     "execution_count": 46,
     "metadata": {},
     "output_type": "execute_result"
    }
   ],
   "source": [
    "pop_data"
   ]
  },
  {
   "cell_type": "code",
   "execution_count": null,
   "id": "fc83ec06",
   "metadata": {},
   "outputs": [],
   "source": []
  }
 ],
 "metadata": {
  "kernelspec": {
   "display_name": "Python 3",
   "language": "python",
   "name": "python3"
  },
  "language_info": {
   "codemirror_mode": {
    "name": "ipython",
    "version": 3
   },
   "file_extension": ".py",
   "mimetype": "text/x-python",
   "name": "python",
   "nbconvert_exporter": "python",
   "pygments_lexer": "ipython3",
   "version": "3.8.8"
  }
 },
 "nbformat": 4,
 "nbformat_minor": 5
}
