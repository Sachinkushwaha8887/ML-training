{
 "cells": [
  {
   "cell_type": "markdown",
   "id": "7609bb9e",
   "metadata": {},
   "source": [
    "# Pandas"
   ]
  },
  {
   "cell_type": "markdown",
   "id": "a68ea64f",
   "metadata": {},
   "source": [
    "# data analysis using pandas"
   ]
  },
  {
   "cell_type": "code",
   "execution_count": 1,
   "id": "4efb3ce1",
   "metadata": {},
   "outputs": [],
   "source": [
    "import numpy as np\n",
    "import pandas as pd\n",
    "from matplotlib import pyplot as plt"
   ]
  },
  {
   "cell_type": "code",
   "execution_count": 3,
   "id": "f663b5c1",
   "metadata": {},
   "outputs": [],
   "source": [
    "mydata=pd.read_excel(r\"C:\\Users\\sk414\\OneDrive\\Desktop\\ML project\\DataSets-master\\DataSets-master\\Population_Summary.xlsx\")"
   ]
  },
  {
   "cell_type": "code",
   "execution_count": 41,
   "id": "61687a05",
   "metadata": {},
   "outputs": [],
   "source": [
    "#mydata"
   ]
  },
  {
   "cell_type": "code",
   "execution_count": 5,
   "id": "9acdc687",
   "metadata": {},
   "outputs": [
    {
     "data": {
      "text/plain": [
       "pandas.core.frame.DataFrame"
      ]
     },
     "execution_count": 5,
     "metadata": {},
     "output_type": "execute_result"
    }
   ],
   "source": [
    "type(mydata)"
   ]
  },
  {
   "cell_type": "code",
   "execution_count": 6,
   "id": "35fb5f26",
   "metadata": {},
   "outputs": [
    {
     "data": {
      "text/plain": [
       "(35, 9)"
      ]
     },
     "execution_count": 6,
     "metadata": {},
     "output_type": "execute_result"
    }
   ],
   "source": [
    "mydata.shape"
   ]
  },
  {
   "cell_type": "code",
   "execution_count": 7,
   "id": "7720b39c",
   "metadata": {},
   "outputs": [
    {
     "data": {
      "text/plain": [
       "315"
      ]
     },
     "execution_count": 7,
     "metadata": {},
     "output_type": "execute_result"
    }
   ],
   "source": [
    "mydata.size"
   ]
  },
  {
   "cell_type": "code",
   "execution_count": 8,
   "id": "e2232d04",
   "metadata": {},
   "outputs": [
    {
     "data": {
      "text/plain": [
       "35"
      ]
     },
     "execution_count": 8,
     "metadata": {},
     "output_type": "execute_result"
    }
   ],
   "source": [
    "len(mydata)"
   ]
  },
  {
   "cell_type": "code",
   "execution_count": 25,
   "id": "b47200af",
   "metadata": {},
   "outputs": [],
   "source": [
    "#mydata.head(1)#to see only desired samples from starting"
   ]
  },
  {
   "cell_type": "code",
   "execution_count": 24,
   "id": "f8ccff7a",
   "metadata": {},
   "outputs": [],
   "source": [
    "#mydata.tail(5)# to see desired from downward samples"
   ]
  },
  {
   "cell_type": "code",
   "execution_count": 23,
   "id": "7d793d44",
   "metadata": {},
   "outputs": [],
   "source": [
    "#mydata.sample(5)# to see random samples from data"
   ]
  },
  {
   "cell_type": "code",
   "execution_count": 17,
   "id": "7a6a3ecc",
   "metadata": {},
   "outputs": [],
   "source": [
    "# Pandas is an open source python package built on top of numpy developed by wes McKinney"
   ]
  },
  {
   "cell_type": "code",
   "execution_count": 22,
   "id": "2a7ffdbf",
   "metadata": {},
   "outputs": [],
   "source": [
    "#mydata.describe().T"
   ]
  },
  {
   "cell_type": "code",
   "execution_count": 21,
   "id": "bae15825",
   "metadata": {},
   "outputs": [],
   "source": [
    "#mydata.info() # to know about the data missing or type of data"
   ]
  },
  {
   "cell_type": "code",
   "execution_count": 32,
   "id": "d90d2261",
   "metadata": {},
   "outputs": [],
   "source": [
    "st1=mydata[\"State_UT\"]"
   ]
  },
  {
   "cell_type": "code",
   "execution_count": 38,
   "id": "70baa994",
   "metadata": {},
   "outputs": [],
   "source": [
    "#st1"
   ]
  },
  {
   "cell_type": "code",
   "execution_count": 34,
   "id": "dc09b7ee",
   "metadata": {},
   "outputs": [
    {
     "data": {
      "text/plain": [
       "pandas.core.series.Series"
      ]
     },
     "execution_count": 34,
     "metadata": {},
     "output_type": "execute_result"
    }
   ],
   "source": [
    "type(st1)"
   ]
  },
  {
   "cell_type": "code",
   "execution_count": 28,
   "id": "cbed7121",
   "metadata": {},
   "outputs": [],
   "source": [
    "st=mydata[[\"State_UT\",\"Population\"]]"
   ]
  },
  {
   "cell_type": "code",
   "execution_count": 37,
   "id": "633836cd",
   "metadata": {},
   "outputs": [],
   "source": [
    "#st"
   ]
  },
  {
   "cell_type": "code",
   "execution_count": 30,
   "id": "184d3f41",
   "metadata": {},
   "outputs": [
    {
     "data": {
      "text/plain": [
       "pandas.core.frame.DataFrame"
      ]
     },
     "execution_count": 30,
     "metadata": {},
     "output_type": "execute_result"
    }
   ],
   "source": [
    "type(st)# 2d dataframe"
   ]
  },
  {
   "cell_type": "code",
   "execution_count": 39,
   "id": "72e1b53f",
   "metadata": {},
   "outputs": [],
   "source": [
    "#mydata.columns"
   ]
  },
  {
   "cell_type": "code",
   "execution_count": 40,
   "id": "84889d03",
   "metadata": {},
   "outputs": [],
   "source": [
    "#mydata.keys()"
   ]
  },
  {
   "cell_type": "code",
   "execution_count": 42,
   "id": "6c32bdef",
   "metadata": {},
   "outputs": [
    {
     "data": {
      "text/html": [
       "<div>\n",
       "<style scoped>\n",
       "    .dataframe tbody tr th:only-of-type {\n",
       "        vertical-align: middle;\n",
       "    }\n",
       "\n",
       "    .dataframe tbody tr th {\n",
       "        vertical-align: top;\n",
       "    }\n",
       "\n",
       "    .dataframe thead th {\n",
       "        text-align: right;\n",
       "    }\n",
       "</style>\n",
       "<table border=\"1\" class=\"dataframe\">\n",
       "  <thead>\n",
       "    <tr style=\"text-align: right;\">\n",
       "      <th></th>\n",
       "      <th>Rank</th>\n",
       "      <th>State_UT</th>\n",
       "      <th>Population</th>\n",
       "      <th>Rulal</th>\n",
       "      <th>Urban</th>\n",
       "      <th>Share</th>\n",
       "      <th>Growth</th>\n",
       "      <th>Country</th>\n",
       "      <th>World_Rank</th>\n",
       "    </tr>\n",
       "  </thead>\n",
       "  <tbody>\n",
       "    <tr>\n",
       "      <th>0</th>\n",
       "      <td>1</td>\n",
       "      <td>Uttar Pradesh</td>\n",
       "      <td>199812341</td>\n",
       "      <td>77.73</td>\n",
       "      <td>22.27</td>\n",
       "      <td>16.5</td>\n",
       "      <td>20.23</td>\n",
       "      <td>Brazil</td>\n",
       "      <td>5</td>\n",
       "    </tr>\n",
       "  </tbody>\n",
       "</table>\n",
       "</div>"
      ],
      "text/plain": [
       "  Rank       State_UT  Population  Rulal  Urban  Share  Growth Country  \\\n",
       "0    1  Uttar Pradesh   199812341  77.73  22.27   16.5   20.23  Brazil   \n",
       "\n",
       "   World_Rank  \n",
       "0           5  "
      ]
     },
     "execution_count": 42,
     "metadata": {},
     "output_type": "execute_result"
    }
   ],
   "source": [
    "mydata.head(1)"
   ]
  },
  {
   "cell_type": "code",
   "execution_count": 43,
   "id": "bd5a7dbb",
   "metadata": {},
   "outputs": [
    {
     "data": {
      "text/plain": [
       "-0.58"
      ]
     },
     "execution_count": 43,
     "metadata": {},
     "output_type": "execute_result"
    }
   ],
   "source": [
    "mydata[\"Growth\"].min()"
   ]
  },
  {
   "cell_type": "code",
   "execution_count": 45,
   "id": "b62bc8d6",
   "metadata": {},
   "outputs": [
    {
     "data": {
      "text/html": [
       "<div>\n",
       "<style scoped>\n",
       "    .dataframe tbody tr th:only-of-type {\n",
       "        vertical-align: middle;\n",
       "    }\n",
       "\n",
       "    .dataframe tbody tr th {\n",
       "        vertical-align: top;\n",
       "    }\n",
       "\n",
       "    .dataframe thead th {\n",
       "        text-align: right;\n",
       "    }\n",
       "</style>\n",
       "<table border=\"1\" class=\"dataframe\">\n",
       "  <thead>\n",
       "    <tr style=\"text-align: right;\">\n",
       "      <th></th>\n",
       "      <th>Rank</th>\n",
       "      <th>State_UT</th>\n",
       "      <th>Population</th>\n",
       "      <th>Rulal</th>\n",
       "      <th>Urban</th>\n",
       "      <th>Share</th>\n",
       "      <th>Growth</th>\n",
       "      <th>Country</th>\n",
       "      <th>World_Rank</th>\n",
       "    </tr>\n",
       "  </thead>\n",
       "  <tbody>\n",
       "    <tr>\n",
       "      <th>24</th>\n",
       "      <td>24</td>\n",
       "      <td>Nagaland</td>\n",
       "      <td>1978502</td>\n",
       "      <td>71.14</td>\n",
       "      <td>28.86</td>\n",
       "      <td>0.16</td>\n",
       "      <td>-0.58</td>\n",
       "      <td>Botswana</td>\n",
       "      <td>148</td>\n",
       "    </tr>\n",
       "  </tbody>\n",
       "</table>\n",
       "</div>"
      ],
      "text/plain": [
       "   Rank  State_UT  Population  Rulal  Urban  Share  Growth   Country  \\\n",
       "24   24  Nagaland     1978502  71.14  28.86   0.16   -0.58  Botswana   \n",
       "\n",
       "    World_Rank  \n",
       "24         148  "
      ]
     },
     "execution_count": 45,
     "metadata": {},
     "output_type": "execute_result"
    }
   ],
   "source": [
    "mydata[mydata[\"Growth\"]==mydata[\"Growth\"].min()]"
   ]
  },
  {
   "cell_type": "code",
   "execution_count": 46,
   "id": "73d9d160",
   "metadata": {},
   "outputs": [
    {
     "data": {
      "text/html": [
       "<div>\n",
       "<style scoped>\n",
       "    .dataframe tbody tr th:only-of-type {\n",
       "        vertical-align: middle;\n",
       "    }\n",
       "\n",
       "    .dataframe tbody tr th {\n",
       "        vertical-align: top;\n",
       "    }\n",
       "\n",
       "    .dataframe thead th {\n",
       "        text-align: right;\n",
       "    }\n",
       "</style>\n",
       "<table border=\"1\" class=\"dataframe\">\n",
       "  <thead>\n",
       "    <tr style=\"text-align: right;\">\n",
       "      <th></th>\n",
       "      <th>Rank</th>\n",
       "      <th>State_UT</th>\n",
       "      <th>Population</th>\n",
       "      <th>Rulal</th>\n",
       "      <th>Urban</th>\n",
       "      <th>Share</th>\n",
       "      <th>Growth</th>\n",
       "      <th>Country</th>\n",
       "      <th>World_Rank</th>\n",
       "    </tr>\n",
       "  </thead>\n",
       "  <tbody>\n",
       "    <tr>\n",
       "      <th>32</th>\n",
       "      <td>UT4</td>\n",
       "      <td>D.&amp; N.Haveli</td>\n",
       "      <td>343709</td>\n",
       "      <td>53.28</td>\n",
       "      <td>46.72</td>\n",
       "      <td>0.03</td>\n",
       "      <td>55.88</td>\n",
       "      <td>Belize</td>\n",
       "      <td>179</td>\n",
       "    </tr>\n",
       "  </tbody>\n",
       "</table>\n",
       "</div>"
      ],
      "text/plain": [
       "   Rank      State_UT  Population  Rulal  Urban  Share  Growth Country  \\\n",
       "32  UT4  D.& N.Haveli      343709  53.28  46.72   0.03   55.88  Belize   \n",
       "\n",
       "    World_Rank  \n",
       "32         179  "
      ]
     },
     "execution_count": 46,
     "metadata": {},
     "output_type": "execute_result"
    }
   ],
   "source": [
    "mydata[mydata[\"Growth\"]==mydata[\"Growth\"].max()]"
   ]
  },
  {
   "cell_type": "code",
   "execution_count": 48,
   "id": "6b457cce",
   "metadata": {},
   "outputs": [
    {
     "data": {
      "text/html": [
       "<div>\n",
       "<style scoped>\n",
       "    .dataframe tbody tr th:only-of-type {\n",
       "        vertical-align: middle;\n",
       "    }\n",
       "\n",
       "    .dataframe tbody tr th {\n",
       "        vertical-align: top;\n",
       "    }\n",
       "\n",
       "    .dataframe thead th {\n",
       "        text-align: right;\n",
       "    }\n",
       "</style>\n",
       "<table border=\"1\" class=\"dataframe\">\n",
       "  <thead>\n",
       "    <tr style=\"text-align: right;\">\n",
       "      <th></th>\n",
       "      <th>Rank</th>\n",
       "      <th>State_UT</th>\n",
       "      <th>Population</th>\n",
       "      <th>Rulal</th>\n",
       "      <th>Urban</th>\n",
       "      <th>Share</th>\n",
       "      <th>Growth</th>\n",
       "      <th>Country</th>\n",
       "      <th>World_Rank</th>\n",
       "    </tr>\n",
       "  </thead>\n",
       "  <tbody>\n",
       "    <tr>\n",
       "      <th>19</th>\n",
       "      <td>19</td>\n",
       "      <td>Uttarakhand</td>\n",
       "      <td>10086292</td>\n",
       "      <td>69.77</td>\n",
       "      <td>30.23</td>\n",
       "      <td>0.83</td>\n",
       "      <td>18.81</td>\n",
       "      <td>Hungary</td>\n",
       "      <td>89</td>\n",
       "    </tr>\n",
       "  </tbody>\n",
       "</table>\n",
       "</div>"
      ],
      "text/plain": [
       "   Rank     State_UT  Population  Rulal  Urban  Share  Growth  Country  \\\n",
       "19   19  Uttarakhand    10086292  69.77  30.23   0.83   18.81  Hungary   \n",
       "\n",
       "    World_Rank  \n",
       "19          89  "
      ]
     },
     "execution_count": 48,
     "metadata": {},
     "output_type": "execute_result"
    }
   ],
   "source": [
    "mydata[mydata[\"Growth\"]==mydata[\"Growth\"].median()]"
   ]
  },
  {
   "cell_type": "code",
   "execution_count": 49,
   "id": "a0bb296d",
   "metadata": {},
   "outputs": [
    {
     "data": {
      "text/html": [
       "<div>\n",
       "<style scoped>\n",
       "    .dataframe tbody tr th:only-of-type {\n",
       "        vertical-align: middle;\n",
       "    }\n",
       "\n",
       "    .dataframe tbody tr th {\n",
       "        vertical-align: top;\n",
       "    }\n",
       "\n",
       "    .dataframe thead th {\n",
       "        text-align: right;\n",
       "    }\n",
       "</style>\n",
       "<table border=\"1\" class=\"dataframe\">\n",
       "  <thead>\n",
       "    <tr style=\"text-align: right;\">\n",
       "      <th></th>\n",
       "      <th>Rank</th>\n",
       "      <th>State_UT</th>\n",
       "      <th>Population</th>\n",
       "      <th>Rulal</th>\n",
       "      <th>Urban</th>\n",
       "      <th>Share</th>\n",
       "      <th>Growth</th>\n",
       "      <th>Country</th>\n",
       "      <th>World_Rank</th>\n",
       "    </tr>\n",
       "  </thead>\n",
       "  <tbody>\n",
       "    <tr>\n",
       "      <th>10</th>\n",
       "      <td>11</td>\n",
       "      <td>Odisha</td>\n",
       "      <td>41974218</td>\n",
       "      <td>83.31</td>\n",
       "      <td>16.69</td>\n",
       "      <td>3.47</td>\n",
       "      <td>14.05</td>\n",
       "      <td>Argentina</td>\n",
       "      <td>32</td>\n",
       "    </tr>\n",
       "    <tr>\n",
       "      <th>33</th>\n",
       "      <td>UT5</td>\n",
       "      <td>Daman &amp; Diu</td>\n",
       "      <td>243247</td>\n",
       "      <td>24.83</td>\n",
       "      <td>75.17</td>\n",
       "      <td>0.02</td>\n",
       "      <td>53.76</td>\n",
       "      <td>Vanuatu</td>\n",
       "      <td>184</td>\n",
       "    </tr>\n",
       "  </tbody>\n",
       "</table>\n",
       "</div>"
      ],
      "text/plain": [
       "   Rank     State_UT  Population  Rulal  Urban  Share  Growth    Country  \\\n",
       "10   11       Odisha    41974218  83.31  16.69   3.47   14.05  Argentina   \n",
       "33  UT5  Daman & Diu      243247  24.83  75.17   0.02   53.76    Vanuatu   \n",
       "\n",
       "    World_Rank  \n",
       "10          32  \n",
       "33         184  "
      ]
     },
     "execution_count": 49,
     "metadata": {},
     "output_type": "execute_result"
    }
   ],
   "source": [
    "mydata[mydata[\"Growth\"]==mydata[\"Growth\"].mode()]"
   ]
  },
  {
   "cell_type": "code",
   "execution_count": 51,
   "id": "f3bb25bf",
   "metadata": {},
   "outputs": [
    {
     "data": {
      "text/plain": [
       "1210854977"
      ]
     },
     "execution_count": 51,
     "metadata": {},
     "output_type": "execute_result"
    }
   ],
   "source": [
    "mydata[\"Population\"].sum(axis=0)"
   ]
  },
  {
   "cell_type": "code",
   "execution_count": 52,
   "id": "869c1593",
   "metadata": {},
   "outputs": [],
   "source": [
    "mydata[\"%Pop\"]=mydata[\"Population\"]/mydata[\"Population\"].sum(axis=0)"
   ]
  },
  {
   "cell_type": "code",
   "execution_count": 68,
   "id": "ac21833e",
   "metadata": {},
   "outputs": [],
   "source": [
    "#mydata"
   ]
  },
  {
   "cell_type": "code",
   "execution_count": 62,
   "id": "258bb0f7",
   "metadata": {},
   "outputs": [],
   "source": [
    "kp=mydata[mydata[\"State_UT\"]==\"Karnataka\"][\"Population\"].values[0]"
   ]
  },
  {
   "cell_type": "code",
   "execution_count": 70,
   "id": "85edbe7a",
   "metadata": {},
   "outputs": [],
   "source": [
    "#mydata[mydata[\"Population\"]>kp]"
   ]
  },
  {
   "cell_type": "code",
   "execution_count": 66,
   "id": "3a310c46",
   "metadata": {},
   "outputs": [
    {
     "data": {
      "text/plain": [
       "8"
      ]
     },
     "execution_count": 66,
     "metadata": {},
     "output_type": "execute_result"
    }
   ],
   "source": [
    "len(mydata[mydata[\"Population\"]>kp])"
   ]
  },
  {
   "cell_type": "code",
   "execution_count": 69,
   "id": "39540330",
   "metadata": {},
   "outputs": [],
   "source": [
    "#mydata[mydata[\"Population\"]>kp][\"State_UT\"]"
   ]
  },
  {
   "cell_type": "code",
   "execution_count": 73,
   "id": "554f62e0",
   "metadata": {},
   "outputs": [
    {
     "data": {
      "text/html": [
       "<div>\n",
       "<style scoped>\n",
       "    .dataframe tbody tr th:only-of-type {\n",
       "        vertical-align: middle;\n",
       "    }\n",
       "\n",
       "    .dataframe tbody tr th {\n",
       "        vertical-align: top;\n",
       "    }\n",
       "\n",
       "    .dataframe thead th {\n",
       "        text-align: right;\n",
       "    }\n",
       "</style>\n",
       "<table border=\"1\" class=\"dataframe\">\n",
       "  <thead>\n",
       "    <tr style=\"text-align: right;\">\n",
       "      <th></th>\n",
       "      <th>Population</th>\n",
       "      <th>Rulal</th>\n",
       "    </tr>\n",
       "  </thead>\n",
       "  <tbody>\n",
       "    <tr>\n",
       "      <th>0</th>\n",
       "      <td>199812341</td>\n",
       "      <td>77.73</td>\n",
       "    </tr>\n",
       "    <tr>\n",
       "      <th>1</th>\n",
       "      <td>112374333</td>\n",
       "      <td>54.78</td>\n",
       "    </tr>\n",
       "    <tr>\n",
       "      <th>2</th>\n",
       "      <td>104099452</td>\n",
       "      <td>88.71</td>\n",
       "    </tr>\n",
       "    <tr>\n",
       "      <th>3</th>\n",
       "      <td>91276115</td>\n",
       "      <td>68.13</td>\n",
       "    </tr>\n",
       "    <tr>\n",
       "      <th>4</th>\n",
       "      <td>84580777</td>\n",
       "      <td>66.64</td>\n",
       "    </tr>\n",
       "    <tr>\n",
       "      <th>5</th>\n",
       "      <td>72626809</td>\n",
       "      <td>72.37</td>\n",
       "    </tr>\n",
       "    <tr>\n",
       "      <th>6</th>\n",
       "      <td>72147030</td>\n",
       "      <td>51.60</td>\n",
       "    </tr>\n",
       "    <tr>\n",
       "      <th>7</th>\n",
       "      <td>68548437</td>\n",
       "      <td>75.13</td>\n",
       "    </tr>\n",
       "    <tr>\n",
       "      <th>8</th>\n",
       "      <td>61095297</td>\n",
       "      <td>61.33</td>\n",
       "    </tr>\n",
       "    <tr>\n",
       "      <th>9</th>\n",
       "      <td>60439692</td>\n",
       "      <td>57.40</td>\n",
       "    </tr>\n",
       "  </tbody>\n",
       "</table>\n",
       "</div>"
      ],
      "text/plain": [
       "   Population  Rulal\n",
       "0   199812341  77.73\n",
       "1   112374333  54.78\n",
       "2   104099452  88.71\n",
       "3    91276115  68.13\n",
       "4    84580777  66.64\n",
       "5    72626809  72.37\n",
       "6    72147030  51.60\n",
       "7    68548437  75.13\n",
       "8    61095297  61.33\n",
       "9    60439692  57.40"
      ]
     },
     "execution_count": 73,
     "metadata": {},
     "output_type": "execute_result"
    }
   ],
   "source": [
    "mydata.iloc[:10,2:4]"
   ]
  },
  {
   "cell_type": "code",
   "execution_count": 74,
   "id": "d5c343fd",
   "metadata": {},
   "outputs": [
    {
     "data": {
      "text/html": [
       "<div>\n",
       "<style scoped>\n",
       "    .dataframe tbody tr th:only-of-type {\n",
       "        vertical-align: middle;\n",
       "    }\n",
       "\n",
       "    .dataframe tbody tr th {\n",
       "        vertical-align: top;\n",
       "    }\n",
       "\n",
       "    .dataframe thead th {\n",
       "        text-align: right;\n",
       "    }\n",
       "</style>\n",
       "<table border=\"1\" class=\"dataframe\">\n",
       "  <thead>\n",
       "    <tr style=\"text-align: right;\">\n",
       "      <th></th>\n",
       "      <th>State_UT</th>\n",
       "      <th>Population</th>\n",
       "    </tr>\n",
       "  </thead>\n",
       "  <tbody>\n",
       "    <tr>\n",
       "      <th>0</th>\n",
       "      <td>Uttar Pradesh</td>\n",
       "      <td>199812341</td>\n",
       "    </tr>\n",
       "    <tr>\n",
       "      <th>1</th>\n",
       "      <td>Maharashtra</td>\n",
       "      <td>112374333</td>\n",
       "    </tr>\n",
       "    <tr>\n",
       "      <th>2</th>\n",
       "      <td>Bihar</td>\n",
       "      <td>104099452</td>\n",
       "    </tr>\n",
       "    <tr>\n",
       "      <th>3</th>\n",
       "      <td>West Bengal</td>\n",
       "      <td>91276115</td>\n",
       "    </tr>\n",
       "    <tr>\n",
       "      <th>4</th>\n",
       "      <td>Andhra Pradesh</td>\n",
       "      <td>84580777</td>\n",
       "    </tr>\n",
       "    <tr>\n",
       "      <th>5</th>\n",
       "      <td>Madhya Pradesh</td>\n",
       "      <td>72626809</td>\n",
       "    </tr>\n",
       "    <tr>\n",
       "      <th>6</th>\n",
       "      <td>Tamil Nadu</td>\n",
       "      <td>72147030</td>\n",
       "    </tr>\n",
       "    <tr>\n",
       "      <th>7</th>\n",
       "      <td>Rajasthan</td>\n",
       "      <td>68548437</td>\n",
       "    </tr>\n",
       "    <tr>\n",
       "      <th>8</th>\n",
       "      <td>Karnataka</td>\n",
       "      <td>61095297</td>\n",
       "    </tr>\n",
       "    <tr>\n",
       "      <th>9</th>\n",
       "      <td>Gujarat</td>\n",
       "      <td>60439692</td>\n",
       "    </tr>\n",
       "    <tr>\n",
       "      <th>10</th>\n",
       "      <td>Odisha</td>\n",
       "      <td>41974218</td>\n",
       "    </tr>\n",
       "  </tbody>\n",
       "</table>\n",
       "</div>"
      ],
      "text/plain": [
       "          State_UT  Population\n",
       "0    Uttar Pradesh   199812341\n",
       "1      Maharashtra   112374333\n",
       "2            Bihar   104099452\n",
       "3      West Bengal    91276115\n",
       "4   Andhra Pradesh    84580777\n",
       "5   Madhya Pradesh    72626809\n",
       "6       Tamil Nadu    72147030\n",
       "7        Rajasthan    68548437\n",
       "8        Karnataka    61095297\n",
       "9          Gujarat    60439692\n",
       "10          Odisha    41974218"
      ]
     },
     "execution_count": 74,
     "metadata": {},
     "output_type": "execute_result"
    }
   ],
   "source": [
    "mydata.loc[:10,\"State_UT\":\"Population\"]"
   ]
  },
  {
   "cell_type": "code",
   "execution_count": 75,
   "id": "12765255",
   "metadata": {},
   "outputs": [
    {
     "data": {
      "text/html": [
       "<div>\n",
       "<style scoped>\n",
       "    .dataframe tbody tr th:only-of-type {\n",
       "        vertical-align: middle;\n",
       "    }\n",
       "\n",
       "    .dataframe tbody tr th {\n",
       "        vertical-align: top;\n",
       "    }\n",
       "\n",
       "    .dataframe thead th {\n",
       "        text-align: right;\n",
       "    }\n",
       "</style>\n",
       "<table border=\"1\" class=\"dataframe\">\n",
       "  <thead>\n",
       "    <tr style=\"text-align: right;\">\n",
       "      <th></th>\n",
       "      <th>State_UT</th>\n",
       "      <th>Population</th>\n",
       "    </tr>\n",
       "  </thead>\n",
       "  <tbody>\n",
       "    <tr>\n",
       "      <th>1</th>\n",
       "      <td>Maharashtra</td>\n",
       "      <td>112374333</td>\n",
       "    </tr>\n",
       "    <tr>\n",
       "      <th>2</th>\n",
       "      <td>Bihar</td>\n",
       "      <td>104099452</td>\n",
       "    </tr>\n",
       "    <tr>\n",
       "      <th>3</th>\n",
       "      <td>West Bengal</td>\n",
       "      <td>91276115</td>\n",
       "    </tr>\n",
       "    <tr>\n",
       "      <th>4</th>\n",
       "      <td>Andhra Pradesh</td>\n",
       "      <td>84580777</td>\n",
       "    </tr>\n",
       "    <tr>\n",
       "      <th>5</th>\n",
       "      <td>Madhya Pradesh</td>\n",
       "      <td>72626809</td>\n",
       "    </tr>\n",
       "    <tr>\n",
       "      <th>6</th>\n",
       "      <td>Tamil Nadu</td>\n",
       "      <td>72147030</td>\n",
       "    </tr>\n",
       "    <tr>\n",
       "      <th>7</th>\n",
       "      <td>Rajasthan</td>\n",
       "      <td>68548437</td>\n",
       "    </tr>\n",
       "    <tr>\n",
       "      <th>8</th>\n",
       "      <td>Karnataka</td>\n",
       "      <td>61095297</td>\n",
       "    </tr>\n",
       "    <tr>\n",
       "      <th>9</th>\n",
       "      <td>Gujarat</td>\n",
       "      <td>60439692</td>\n",
       "    </tr>\n",
       "    <tr>\n",
       "      <th>10</th>\n",
       "      <td>Odisha</td>\n",
       "      <td>41974218</td>\n",
       "    </tr>\n",
       "  </tbody>\n",
       "</table>\n",
       "</div>"
      ],
      "text/plain": [
       "          State_UT  Population\n",
       "1      Maharashtra   112374333\n",
       "2            Bihar   104099452\n",
       "3      West Bengal    91276115\n",
       "4   Andhra Pradesh    84580777\n",
       "5   Madhya Pradesh    72626809\n",
       "6       Tamil Nadu    72147030\n",
       "7        Rajasthan    68548437\n",
       "8        Karnataka    61095297\n",
       "9          Gujarat    60439692\n",
       "10          Odisha    41974218"
      ]
     },
     "execution_count": 75,
     "metadata": {},
     "output_type": "execute_result"
    }
   ],
   "source": [
    "mydata.loc[1:10,\"State_UT\":\"Population\"]"
   ]
  },
  {
   "cell_type": "code",
   "execution_count": null,
   "id": "878d81f1",
   "metadata": {},
   "outputs": [],
   "source": [
    "ele2019=pd.read_excel(r\"\")"
   ]
  }
 ],
 "metadata": {
  "kernelspec": {
   "display_name": "Python 3",
   "language": "python",
   "name": "python3"
  },
  "language_info": {
   "codemirror_mode": {
    "name": "ipython",
    "version": 3
   },
   "file_extension": ".py",
   "mimetype": "text/x-python",
   "name": "python",
   "nbconvert_exporter": "python",
   "pygments_lexer": "ipython3",
   "version": "3.8.8"
  }
 },
 "nbformat": 4,
 "nbformat_minor": 5
}
